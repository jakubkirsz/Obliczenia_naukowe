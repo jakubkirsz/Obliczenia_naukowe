{
  "nbformat": 4,
  "nbformat_minor": 0,
  "metadata": {
    "colab": {
      "name": "Zajęcia2_03.ipynb",
      "provenance": [],
      "collapsed_sections": [],
      "authorship_tag": "ABX9TyPF8pj9TEmp9hJ8C2sfFQ7D",
      "include_colab_link": true
    },
    "kernelspec": {
      "name": "python3",
      "display_name": "Python 3"
    },
    "language_info": {
      "name": "python"
    }
  },
  "cells": [
    {
      "cell_type": "markdown",
      "metadata": {
        "id": "view-in-github",
        "colab_type": "text"
      },
      "source": [
        "<a href=\"https://colab.research.google.com/github/jakubkirsz/Obliczenia_naukowe/blob/main/Zaj%C4%99cia2_03.ipynb\" target=\"_parent\"><img src=\"https://colab.research.google.com/assets/colab-badge.svg\" alt=\"Open In Colab\"/></a>"
      ]
    },
    {
      "cell_type": "markdown",
      "source": [
        ""
      ],
      "metadata": {
        "id": "B0v0hU_SY_zz"
      }
    },
    {
      "cell_type": "code",
      "source": [
        "x= int(input())\n",
        "if x < 10:\n",
        "  print(\"123\")\n",
        "else:\n",
        "  print(\"456\")"
      ],
      "metadata": {
        "id": "qv8SrvMnZarZ"
      },
      "execution_count": null,
      "outputs": []
    },
    {
      "cell_type": "code",
      "source": [
        "for i in range(0,101,2):\n",
        "  print(i)"
      ],
      "metadata": {
        "id": "lFJAL9nhZ0nJ"
      },
      "execution_count": null,
      "outputs": []
    },
    {
      "cell_type": "code",
      "source": [
        "i = 1 \n",
        "while i<5:\n",
        "  print(i)\n",
        "  i+=1\n",
        "  if i==2:\n",
        "    break"
      ],
      "metadata": {
        "id": "4j9u9XW9bNuK"
      },
      "execution_count": null,
      "outputs": []
    },
    {
      "cell_type": "code",
      "source": [
        "def funkcja(x):\n",
        "  x=x+5\n",
        "  return x\n",
        "\n",
        "y=int(input())\n",
        "funkcja(y)\n"
      ],
      "metadata": {
        "id": "jHjSA0RNcTeB"
      },
      "execution_count": null,
      "outputs": []
    },
    {
      "cell_type": "code",
      "source": [
        "def potega(x,y=2):\n",
        "  x=int(input())\n",
        "  y=int(input())\n",
        "  return(x**y)\n",
        "\n",
        "potega(z,v)\n"
      ],
      "metadata": {
        "id": "89cAgdu2db5K"
      },
      "execution_count": null,
      "outputs": []
    },
    {
      "cell_type": "code",
      "source": [
        "lista1=[1,2,3,'Ania',[4,5,6],True,'qwerty']\n",
        "'''l=[]\n",
        "for i in range(51):\n",
        "  l.append(i)\n",
        "list(range(51))\n",
        "\n",
        "lista1.sort()'''\n",
        "\n",
        "lista2=[1,3,2,4,7,8,5]\n",
        "lista2.sort(reverse=True)\n",
        "print(lista2)\n"
      ],
      "metadata": {
        "id": "3Fa_gu9ceQ3K"
      },
      "execution_count": null,
      "outputs": []
    },
    {
      "cell_type": "markdown",
      "source": [
        "Zadanie1"
      ],
      "metadata": {
        "id": "a5CfcwUMnuoL"
      }
    },
    {
      "cell_type": "code",
      "source": [
        "lista=[]\n",
        "for i in range(-15,11,3):\n",
        "  if i<1:\n",
        "    lista.append(i)\n",
        "lista.sort(reverse=True)\n",
        "print(lista)\n",
        "\n"
      ],
      "metadata": {
        "id": "XzGwfId1ikUj"
      },
      "execution_count": null,
      "outputs": []
    },
    {
      "cell_type": "code",
      "source": [
        "list(range(0,-16, -3))"
      ],
      "metadata": {
        "id": "ODtXAGQMjhtS"
      },
      "execution_count": null,
      "outputs": []
    },
    {
      "cell_type": "markdown",
      "source": [
        "Zadanie2"
      ],
      "metadata": {
        "id": "ptmavLTrnryQ"
      }
    },
    {
      "cell_type": "code",
      "source": [
        "L=[1,3,5,7,8,10]\n",
        "\n",
        "def kwadrat(L):\n",
        "  lista1=[]\n",
        "  for i in L:\n",
        "    lista1.append(i**2)\n",
        "  print(lista1)\n",
        "kwadrat(L)\n",
        "\n",
        "def funkcja(L):\n",
        "  lista2=[]\n",
        "  for i in L:\n",
        "    lista2.append(i/(i-2))\n",
        "  print(lista2)\n",
        "funkcja(L)\n",
        "\n",
        "def podzielne3(L):\n",
        "  lista3=[]\n",
        "  for i in L:\n",
        "    if i % 3==0:\n",
        "      lista3.append(i)\n",
        "  print(lista3)\n",
        "podzielne3(L)"
      ],
      "metadata": {
        "id": "z5O41DYKkioC"
      },
      "execution_count": null,
      "outputs": []
    },
    {
      "cell_type": "code",
      "source": [
        "L=[1,3,5,7,8,10]\n",
        "a=[n**2 for n in L]\n",
        "b=[n/(n-2) for n in L]\n",
        "c=[n for n in L if not n%3]\n",
        "print(a)\n",
        "print(b)\n",
        "print(c)"
      ],
      "metadata": {
        "id": "paI2YjWxmka0"
      },
      "execution_count": null,
      "outputs": []
    },
    {
      "cell_type": "code",
      "source": [
        "lista=[1,3,5,7,8,10]\n",
        "lista2=list(map(lambda x:x**2, lista))\n",
        "print(lista2)\n"
      ],
      "metadata": {
        "id": "heqD0HQ3nQID"
      },
      "execution_count": null,
      "outputs": []
    },
    {
      "cell_type": "code",
      "source": [
        "lista=[1,3,5,7,8,10]\n",
        "lista2=list(filter(lambda x: x%3 == 0, lista))\n",
        "print(lista2)"
      ],
      "metadata": {
        "id": "CtYeVMo8oAxz"
      },
      "execution_count": null,
      "outputs": []
    },
    {
      "cell_type": "code",
      "source": [
        "x={1,2,'pies'}\n",
        "x.remove('pies')\n",
        "x.add('kot')\n",
        "print(x)"
      ],
      "metadata": {
        "id": "2H5zJvyUoumL"
      },
      "execution_count": null,
      "outputs": []
    },
    {
      "cell_type": "code",
      "source": [
        ""
      ],
      "metadata": {
        "id": "m5rs3yIhqHN0"
      },
      "execution_count": null,
      "outputs": []
    }
  ]
}