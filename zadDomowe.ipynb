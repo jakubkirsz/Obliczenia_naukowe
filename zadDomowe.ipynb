{
  "nbformat": 4,
  "nbformat_minor": 0,
  "metadata": {
    "colab": {
      "name": "zadDomowe.ipynb",
      "provenance": [],
      "authorship_tag": "ABX9TyNz/9fAvCwylff2ler7FLVc",
      "include_colab_link": true
    },
    "kernelspec": {
      "name": "python3",
      "display_name": "Python 3"
    },
    "language_info": {
      "name": "python"
    }
  },
  "cells": [
    {
      "cell_type": "markdown",
      "metadata": {
        "id": "view-in-github",
        "colab_type": "text"
      },
      "source": [
        "<a href=\"https://colab.research.google.com/github/jakubkirsz/Obliczenia_naukowe/blob/main/zadDomowe.ipynb\" target=\"_parent\"><img src=\"https://colab.research.google.com/assets/colab-badge.svg\" alt=\"Open In Colab\"/></a>"
      ]
    },
    {
      "cell_type": "markdown",
      "source": [
        "# Sekcja 1 "
      ],
      "metadata": {
        "id": "FTluwU7S_Xai"
      }
    },
    {
      "cell_type": "code",
      "source": [
        "\n",
        "print(\"Jak masz na imię?\")\n",
        "x=input()\n",
        "print(\"Witaj\",x,\"!\")"
      ],
      "metadata": {
        "id": "Lqv5WwCx_TTv"
      },
      "execution_count": null,
      "outputs": []
    },
    {
      "cell_type": "markdown",
      "source": [
        "# Sekcja 2\n",
        "\n",
        "\n",
        "\n",
        "\n",
        "\n",
        "\n"
      ],
      "metadata": {
        "id": "N7fL6DMR-tw1"
      }
    },
    {
      "cell_type": "markdown",
      "source": [
        ""
      ],
      "metadata": {
        "id": "ZVuvN0UiR9F1"
      }
    },
    {
      "cell_type": "markdown",
      "source": [
        "# Sekcja 3"
      ],
      "metadata": {
        "id": "_eOkzMZYSjqp"
      }
    },
    {
      "cell_type": "markdown",
      "source": [
        "![1.png](data:image/png;base64,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)"
      ],
      "metadata": {
        "id": "0LBDEwd4Sm6O"
      }
    },
    {
      "cell_type": "markdown",
      "source": [
        "# Sekcja 4"
      ],
      "metadata": {
        "id": "R5eYhZ9yTBpe"
      }
    },
    {
      "cell_type": "code",
      "source": [
        "def unikalne_wartosci(lista):\n",
        "\twynik = []\n",
        "\tlista.sort()\n",
        "\twynik.append(lista[0])\n",
        "\tfor i in range(1, len(lista)):\n",
        "\t\tif (lista[i] != lista[i-1]):\n",
        "\t\t\twynik.append(lista[i])\n",
        "\tprint (wynik)\n",
        "\tprint (len(wynik))\n",
        "from random import randint\n",
        "\n",
        "def listownik():\n",
        "\tlista = []\n",
        "\tprint(\"Podaj długość listy:\")\n",
        "\tx=int(input())\n",
        "\tif (x<10) or (x>20):\n",
        "\t\twhile (x<10) or (x>20):\n",
        "\t\t\tprint (\"Podaj wartość z zakresu [10,20]\")\n",
        "\t\t\tx=int(input())\n",
        "\tfor i in range(x):\n",
        "\t\tlista.append(randint(0,10))\n",
        "\tprint(lista)\n",
        "\tprint(\"Liczba unikalnych elementów listy:\")\n",
        "\tunikalne_wartosci(lista)\n",
        "\t\n",
        "\n",
        "listownik()"
      ],
      "metadata": {
        "id": "dTuyrH-pS5oO"
      },
      "execution_count": null,
      "outputs": []
    }
  ]
}